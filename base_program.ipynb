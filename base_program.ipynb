{
 "cells": [
  {
   "cell_type": "markdown",
   "id": "6bf1809c-8ea9-4127-baa3-5b538953e518",
   "metadata": {},
   "source": [
    "Загрузка библиотек"
   ]
  },
  {
   "cell_type": "code",
   "execution_count": 1,
   "id": "b02afbf7-0106-4a9d-a54d-16d5d24b71db",
   "metadata": {},
   "outputs": [],
   "source": [
    "import pandas as pd\n",
    "import numpy as np\n",
    "import matplotlib.pyplot as plt"
   ]
  },
  {
   "cell_type": "markdown",
   "id": "02b6c636-6277-4e75-ac90-32c5d77fa698",
   "metadata": {},
   "source": [
    "Импорт файла с данными для сравнения:"
   ]
  },
  {
   "cell_type": "code",
   "execution_count": 2,
   "id": "a9b3843d-bced-4b7f-b3a5-236a50b8ef24",
   "metadata": {},
   "outputs": [
    {
     "data": {
      "text/html": [
       "<div>\n",
       "<style scoped>\n",
       "    .dataframe tbody tr th:only-of-type {\n",
       "        vertical-align: middle;\n",
       "    }\n",
       "\n",
       "    .dataframe tbody tr th {\n",
       "        vertical-align: top;\n",
       "    }\n",
       "\n",
       "    .dataframe thead th {\n",
       "        text-align: right;\n",
       "    }\n",
       "</style>\n",
       "<table border=\"1\" class=\"dataframe\">\n",
       "  <thead>\n",
       "    <tr style=\"text-align: right;\">\n",
       "      <th></th>\n",
       "      <th>Fi</th>\n",
       "      <th>Pc</th>\n",
       "      <th>Tc</th>\n",
       "      <th>Vc</th>\n",
       "      <th>Alf_w</th>\n",
       "      <th>P_1ring</th>\n",
       "      <th>G_bb</th>\n",
       "      <th>P_pist</th>\n",
       "      <th>x</th>\n",
       "    </tr>\n",
       "  </thead>\n",
       "  <tbody>\n",
       "    <tr>\n",
       "      <th>0</th>\n",
       "      <td>180.0</td>\n",
       "      <td>1.93</td>\n",
       "      <td>346.4</td>\n",
       "      <td>0.001056</td>\n",
       "      <td>351.2</td>\n",
       "      <td>1.2636</td>\n",
       "      <td>0.000190</td>\n",
       "      <td>0.000</td>\n",
       "      <td>2.000000e+25</td>\n",
       "    </tr>\n",
       "    <tr>\n",
       "      <th>1</th>\n",
       "      <td>181.0</td>\n",
       "      <td>1.93</td>\n",
       "      <td>346.5</td>\n",
       "      <td>0.001055</td>\n",
       "      <td>351.3</td>\n",
       "      <td>1.2637</td>\n",
       "      <td>0.000190</td>\n",
       "      <td>0.007</td>\n",
       "      <td>2.000000e+25</td>\n",
       "    </tr>\n",
       "    <tr>\n",
       "      <th>2</th>\n",
       "      <td>182.0</td>\n",
       "      <td>1.93</td>\n",
       "      <td>346.6</td>\n",
       "      <td>0.001055</td>\n",
       "      <td>351.3</td>\n",
       "      <td>1.2639</td>\n",
       "      <td>0.000190</td>\n",
       "      <td>0.027</td>\n",
       "      <td>2.000000e+25</td>\n",
       "    </tr>\n",
       "    <tr>\n",
       "      <th>3</th>\n",
       "      <td>183.0</td>\n",
       "      <td>1.93</td>\n",
       "      <td>346.7</td>\n",
       "      <td>0.001055</td>\n",
       "      <td>351.4</td>\n",
       "      <td>1.2641</td>\n",
       "      <td>0.000191</td>\n",
       "      <td>0.062</td>\n",
       "      <td>2.000000e+25</td>\n",
       "    </tr>\n",
       "    <tr>\n",
       "      <th>4</th>\n",
       "      <td>184.0</td>\n",
       "      <td>1.93</td>\n",
       "      <td>346.8</td>\n",
       "      <td>0.001055</td>\n",
       "      <td>351.5</td>\n",
       "      <td>1.2644</td>\n",
       "      <td>0.000191</td>\n",
       "      <td>0.109</td>\n",
       "      <td>2.000000e+25</td>\n",
       "    </tr>\n",
       "  </tbody>\n",
       "</table>\n",
       "</div>"
      ],
      "text/plain": [
       "      Fi    Pc     Tc        Vc  Alf_w  P_1ring      G_bb  P_pist  \\\n",
       "0  180.0  1.93  346.4  0.001056  351.2   1.2636  0.000190   0.000   \n",
       "1  181.0  1.93  346.5  0.001055  351.3   1.2637  0.000190   0.007   \n",
       "2  182.0  1.93  346.6  0.001055  351.3   1.2639  0.000190   0.027   \n",
       "3  183.0  1.93  346.7  0.001055  351.4   1.2641  0.000191   0.062   \n",
       "4  184.0  1.93  346.8  0.001055  351.5   1.2644  0.000191   0.109   \n",
       "\n",
       "              x  \n",
       "0  2.000000e+25  \n",
       "1  2.000000e+25  \n",
       "2  2.000000e+25  \n",
       "3  2.000000e+25  \n",
       "4  2.000000e+25  "
      ]
     },
     "execution_count": 2,
     "metadata": {},
     "output_type": "execute_result"
    }
   ],
   "source": [
    "exp = pd.read_csv('EngineSem.ind', encoding='latin-1', header=None, skiprows = 19, delimiter='\\s+')\n",
    "exp.columns = ['Fi', 'Pc', 'Tc', 'Vc', 'Alf_w', 'P_1ring', 'G_bb', 'P_pist', 'x']\n",
    "exp.head(5)"
   ]
  },
  {
   "cell_type": "markdown",
   "id": "98b05d28-3f39-47f4-913c-039edb29a5ac",
   "metadata": {},
   "source": [
    "# Исходные данные по двигателю"
   ]
  },
  {
   "cell_type": "markdown",
   "id": "33b1be56-20ab-4c91-a273-8bdf45e6b60e",
   "metadata": {},
   "source": [
    "### Геометрические параметры двигателя"
   ]
  },
  {
   "cell_type": "code",
   "execution_count": 3,
   "id": "2d3dd3a3-7ad1-4f8e-952d-3b6513778da1",
   "metadata": {},
   "outputs": [],
   "source": [
    "D=0.102          # диаметр цилиндра, м\n",
    "S=0.122          # ход поршня, м\n",
    "n_mex=0.82956    # механический КПД\n",
    "n=2400           # частота вращения, об/мин\n",
    "icyl=6           # кол-во цилиндров\n",
    "eps=18           # степень сжатия\n",
    "lamb=0.264       # R/L\n",
    "lo = 495.2       # стехиометрическое количество воздуха\n",
    "alpha = 2.0      # коэффициент избытка воздуха"
   ]
  },
  {
   "cell_type": "markdown",
   "id": "2a523754-e879-449b-9864-833c2ff0cc7c",
   "metadata": {},
   "source": [
    "### Граничные и начальные условия"
   ]
  },
  {
   "cell_type": "code",
   "execution_count": 4,
   "id": "8ec7d43f-d2da-46b8-be5d-1f029b619e2f",
   "metadata": {},
   "outputs": [],
   "source": [
    "Tk=352            # Температура за компрессором, K\n",
    "Pk=2.53*1E5       # Давление за компрессором, Па\n",
    "Tog=862           # Температура ОГ, K\n",
    "Pog=1.78*1E5      # Давление ОГ, Па"
   ]
  },
  {
   "cell_type": "markdown",
   "id": "575e2352-3f4f-4f04-91a3-be74a3e29e68",
   "metadata": {},
   "source": [
    "### Молярные массы веществ:"
   ]
  },
  {
   "cell_type": "code",
   "execution_count": 5,
   "id": "da354998-084a-4db7-b87b-fc7aeec18ef5",
   "metadata": {},
   "outputs": [],
   "source": [
    "ml_sp = {'N2':  0.028,\n",
    "         'O2':  0.032,\n",
    "         'CO2': 0.044,\n",
    "         'H2O': 0.018}"
   ]
  },
  {
   "cell_type": "markdown",
   "id": "69581c72-28de-4f7a-8ce0-30980c264a4b",
   "metadata": {},
   "source": [
    "### Газораспределение и впрыскивание топлива"
   ]
  },
  {
   "cell_type": "code",
   "execution_count": 6,
   "id": "27e9b6b4-2f19-4b84-a1a2-803014007917",
   "metadata": {},
   "outputs": [],
   "source": [
    "Fi_ovik=360-64    # Угол открытия выпускного клапана\n",
    "Fi_zvik=540+18    # Угол закрытия выпускного клапапа\n",
    "Fi_ovk=540-10     # Угол открытия впускного клапана\n",
    "Fi_zvk=42         # Угол закрытия впускного клапана\n",
    "muf_int=0.0027    # Максимальное проходное сечения впускного клапана\n",
    "muf_exh=0.0027    # Максимальное проходное сечения выпускного клапана\n",
    "Fi_ovt=0          # Угол опережения впрыскивания топлива"
   ]
  },
  {
   "cell_type": "markdown",
   "id": "b58385f0-ab1b-45be-999d-d7ab8249b40c",
   "metadata": {},
   "source": [
    "### Прочие константы"
   ]
  },
  {
   "cell_type": "code",
   "execution_count": 7,
   "id": "eb809eb7-51d2-4b38-9213-3f4d247cd7a9",
   "metadata": {},
   "outputs": [],
   "source": [
    "Rm=8.314          # Универсальная газовая постоянная\n",
    "dFi=np.pi/180     # Приращение угла поворота КВ\n",
    "N=900             # Статическое количество элементов в массивах"
   ]
  },
  {
   "cell_type": "markdown",
   "id": "7f871d83-ee0d-4c64-835b-eb88ec5f56e9",
   "metadata": {},
   "source": [
    "# Функции"
   ]
  },
  {
   "cell_type": "markdown",
   "id": "0d48fddd-d434-4d39-800e-18f8039b5bc6",
   "metadata": {},
   "source": [
    "### Объем КС как функция угла поворота коленчатого вала:\n",
    "$$ V(\\phi) = V_c + V_h -\\frac{\\pi D^2} 4 \\frac{S} 2 ((1 - cos (\\phi))-\\frac{\\lambda} 4 (1 -cos(2\\phi)))$$"
   ]
  },
  {
   "cell_type": "code",
   "execution_count": 8,
   "id": "cf64f597-c57f-4bd1-809b-0d834317ff82",
   "metadata": {},
   "outputs": [],
   "source": [
    "## Вписать функцию для расчета текущего объема в цилиндре двигателя\n",
    "def vol(deg):\n",
    "    Ap = np.pi * D ** 2 / 4\n",
    "    Vh = Ap * S\n",
    "    Vc = Vh / (eps - 1)\n",
    "    V = Vc + Vh - Ap * S / 2 * (1 - np.cos(np.deg2rad(deg)) - lamb / 4 * (1 - np.cos(2 * np.deg2rad(deg))))\n",
    "    return V"
   ]
  },
  {
   "cell_type": "markdown",
   "id": "89f07011-f45f-4135-a9da-6bb418b721ca",
   "metadata": {},
   "source": [
    "### Термодинамическая работа\n",
    "$$ \\frac{dL} {d\\phi} = -p\\frac{dV}{d\\phi} $$"
   ]
  },
  {
   "cell_type": "code",
   "execution_count": 9,
   "id": "e0e13e0c-57c5-4b51-8c67-65d88fb3f7e3",
   "metadata": {},
   "outputs": [],
   "source": [
    "## Вписать функцию для расчета термодинамической работы\n",
    "def rab(p, deg):\n",
    "    rab_deg = p * (vol(deg + 1) / dFi - vol(deg) / dFi)\n",
    "    return rab_deg"
   ]
  },
  {
   "cell_type": "markdown",
   "id": "1f2b87a1-0f2c-4480-a82e-fcaeb020bc30",
   "metadata": {},
   "source": [
    "### Теплообмен с окружающими деталями КС:\n",
    "$$ \\frac{dQ_w} {d\\phi} = \\qquad \\sum_{i=1}^3 \\alpha_w(T-T_w^i)F_i \\frac{dt}{d\\omega} $$\n",
    "Площадь крышки цилиндра:\n",
    "$$ F_k = \\frac{\\pi D^2} 4 $$\n",
    "Площадь поршня:\n",
    "$$ F_p = 1.4 F_k $$\n",
    "Площадь гильзы:\n",
    "$$ F_{cyl}(\\phi) = {\\pi D}(\\delta + S_p(\\phi)) $$\n",
    "Коэффициент теплоотдачи по формуле Г. Эйхельберга:\n",
    "$$ \\alpha_w(\\phi) = 77.9 \\cdot 10^{-4} C_m^{\\frac 1 3} \\sqrt{PT} $$"
   ]
  },
  {
   "cell_type": "code",
   "execution_count": 10,
   "id": "d7060ac1-43a1-4aba-9de4-a892a0be1ad2",
   "metadata": {},
   "outputs": [],
   "source": [
    "## Вписать функцию для расчета теплообмена со стенками КС\n",
    "def heat_transfer(T, P, deg):\n",
    "    Tp = 325 + 273.15\n",
    "    Tk = 300 + 273.15\n",
    "    Tc = 200 + 273.15\n",
    "    delta = 1 * 10**(-3)\n",
    "    Cm = (S * n) / 30\n",
    "    #print(P)\n",
    "    alpha = 77.9 * 10**(-4) * Cm**(1 / 3) * (P * T)**(1 / 2)\n",
    "    Sphi = S / 2 * (1 - np.cos(np.deg2rad(deg)) - lamb / 4 * (1 - np.cos(np.deg2rad(2 * deg))))\n",
    "    Qwc = -alpha * (T - Tc) * np.pi * D * (delta + Sphi) * 30 / np.pi / n\n",
    "    Qwk = -alpha * (T - Tk) * np.pi * D * D / 4 * 30 / np.pi / n\n",
    "    Qwp = -alpha * (T - Tp) * 1.4 * np.pi * D * D / 4 * 30 / np.pi / n\n",
    "    \n",
    "    Q = Qwc + Qwp + Qwk\n",
    "    return Q"
   ]
  },
  {
   "cell_type": "markdown",
   "id": "907d85da-2f6f-41fe-85f5-bcdb95ee141a",
   "metadata": {},
   "source": [
    "### Определение теплоемкости смеси газов в КС:"
   ]
  },
  {
   "cell_type": "markdown",
   "id": "96af788d-e280-4a5e-a4fb-a87e5f4b1778",
   "metadata": {},
   "source": [
    "\n",
    "$$ C_v(M, T) = \\qquad \\sum_{i=1}^4 v_i C_v^i $$  где $v_i =   {M_i} / {M_{mixture}} $ \n",
    "$$ C_v^i (T) = \\qquad \\sum_{i=0}^6 A_i\\left({{\\frac {T-273.15} {1000}}}\\right)^i $$"
   ]
  },
  {
   "cell_type": "markdown",
   "id": "7abf3c0e-b634-4e0c-b10b-90ae0c01e005",
   "metadata": {},
   "source": [
    "Таблица 1 – Коэффициенты для аппроксимации изохорной теплоемкости. газовая постоянная газов (Дж/кг/К)|\n",
    "| Газ | С0       | С1      | С2       | С3       | С4       | С5      | С6      | Ri      |   |\r\n",
    "|-----|----------|---------|----------|----------|----------|---------|---------|---------|---|\r\n",
    "| H2  | 10077.23 | 1805.88 | -4894.86 | 6962.86  | -4546.27 | 1417.52 | -170.80 | 2124.3  |   |\r\n",
    "| O2  | 654.56   | 68.44   | 264.35   | - 393.57 | 246.48   | -73.33  | 8.47    | 259.8   |   |\r\n",
    "| N2  | 739.29   | -22.47  | 227.21   | - 185.89 | 70.01    | -12.38  | 0.77    | 296.8   |   |\r\n",
    "| H2O | 1397.28  | 116.90  | 349.69   | - 269.54 | 112.47   | -27.73  | 3.05    | 461.6   |   |\r\n",
    "| CO  | 2.53     | -27.36  | 118.96   | - 259.99 | 270.41   | -14.11  | 743.45  | 296.8   |   |\r\n",
    "| CO2 | 623.42   | 642.051 | -894.27  | 1184.18  | -917.66  | 348.92  | -50.60  | 188.9   |   |0|188.9|\r\n",
    "\n",
    "\n"
   ]
  },
  {
   "cell_type": "code",
   "execution_count": 20,
   "id": "8cfbaabd-cc50-45ee-a260-aa6584ef37fe",
   "metadata": {},
   "outputs": [],
   "source": [
    "## Вписать функцию для расчета теплоемкости смеси газов\n",
    "O2_lt = [654.56, 68.44, 264.35, -393.57, 246.48, -73.33, 8.47, 259.8] #O2\n",
    "N2_lt = [739.29, -22.47, 227.21, -185.89, 70.01, -12.38, 0.77, 296.8] #N2\n",
    "H20_lt = [1397.28, 116.90, 349.69, -269.54, 112.47, -27.73, 3.05, 461.6] #H20\n",
    "CO2_lt = [623.42, 642.051, -894.27, 1184.18, -917.66, 348.92, -50.60, 188.9] #CO2\n",
    "\n",
    "def Cv(T, M_N2, M_O2, M_CO2,  M_H2O, M_Mixture):\n",
    "    \n",
    "    O2_l = np.sum([O2_lt[i] * ml_sp['O2'] * ((T - 273.15) / 1000) ** i for i in range(6)])\n",
    "    N2_l = np.sum([N2_lt[i]  * ml_sp['N2'] * ((T - 273.15) / 1000) ** i for i in range(6)])\n",
    "    H20_l = np.sum([H20_lt[i] * ml_sp['H2O'] * ((T - 273.15) / 1000) ** i for i in range(6)])\n",
    "    CO2_l = np.sum([CO2_lt[i] * ml_sp['CO2'] * ((T - 273.15) / 1000) ** i for i in range(6)])\n",
    "    \n",
    "    result = O2_l * (M_O2 / M_Mixture) + N2_l * (M_N2 / M_Mixture) + H20_l * (M_H2O / M_Mixture) + CO2_l * (M_H2O / M_Mixture)\n",
    "    return result\n"
   ]
  },
  {
   "cell_type": "markdown",
   "id": "bdae958d-c72f-4fba-916e-332d717d27cd",
   "metadata": {},
   "source": [
    "# Основная программа"
   ]
  },
  {
   "cell_type": "markdown",
   "id": "d367c967-0f9c-4b1f-8c77-b56e67910b10",
   "metadata": {},
   "source": [
    "### Объявление массивов"
   ]
  },
  {
   "cell_type": "code",
   "execution_count": 12,
   "id": "4e741793-2bc0-4431-8217-0b7c8ff8299d",
   "metadata": {},
   "outputs": [],
   "source": [
    "P = np.zeros((N+1, 1)) # давление, Па\n",
    "T = np.zeros((N+1, 1))             # температура, K\n",
    "# кол-во вещества, моль\n",
    "M = {\n",
    "    'N2':  np.zeros((N+1, 1)),\n",
    "    'O2':  np.zeros((N+1, 1)),\n",
    "    'CO2': np.zeros((N+1, 1)),\n",
    "    'H2O': np.zeros((N+1, 1)),\n",
    "    'Mixture': np.zeros((N+1, 1))\n",
    "    }"
   ]
  },
  {
   "cell_type": "markdown",
   "id": "c6373e4a-b0c2-4f3a-8d07-3e32717053b2",
   "metadata": {},
   "source": [
    "### Начальные данные для расчета рабочего процесса"
   ]
  },
  {
   "cell_type": "markdown",
   "id": "6fe71358-0bb1-4720-b770-88592e535e27",
   "metadata": {},
   "source": [
    "Возьмем значения в цилиндре двигателя на момент его закрытия, равными \"экспериментальным\""
   ]
  },
  {
   "cell_type": "code",
   "execution_count": 13,
   "id": "5767f500-2645-462c-9069-74d35352e6ad",
   "metadata": {},
   "outputs": [],
   "source": [
    "P[Fi_zvk] = exp['Pc'][Fi_zvk]*1e5\n",
    "T[Fi_zvk] = exp['Tc'][Fi_zvk]"
   ]
  },
  {
   "cell_type": "markdown",
   "id": "626ec80e-b3d0-4b4e-84d4-4b9c95e2dfdf",
   "metadata": {},
   "source": [
    "Состав смеси газов на момент закрытия впускного клапана = воздух"
   ]
  },
  {
   "cell_type": "code",
   "execution_count": 14,
   "id": "1e032513-bd06-4198-ab07-1410fab90998",
   "metadata": {},
   "outputs": [],
   "source": [
    "M['Mixture'][Fi_zvk] = P[Fi_zvk] * vol(Fi_zvk) / T[Fi_zvk] / Rm\n",
    "M['N2'][Fi_zvk] = 0.79 * M['Mixture'][Fi_zvk]\n",
    "M['O2'][Fi_zvk] = 0.21 * M['Mixture'][Fi_zvk]\n",
    "M['CO2'][Fi_zvk] = 0\n",
    "M['H2O'][Fi_zvk] = 0"
   ]
  },
  {
   "cell_type": "markdown",
   "id": "272a5822-7ab9-496f-99d6-80725eefd807",
   "metadata": {},
   "source": [
    "По коэффициенту избытка воздуха можно определить соответствующую цикловую подачу"
   ]
  },
  {
   "cell_type": "code",
   "execution_count": 15,
   "id": "fa6334fb-7965-4fbc-904e-b27acfe56310",
   "metadata": {},
   "outputs": [],
   "source": [
    "## оценить величину цикловой подачи"
   ]
  },
  {
   "cell_type": "markdown",
   "id": "65265b2e-cc08-4c3c-bbe9-4c71e5b84851",
   "metadata": {},
   "source": [
    "### Расчет процесса сжатия"
   ]
  },
  {
   "cell_type": "markdown",
   "id": "40061712-36ec-4046-92f8-442a25e98e55",
   "metadata": {},
   "source": [
    "Для процесса сжатия алгебраическая система уравнений для закрытой термодинамической системы решается последовательно в цикле:\n",
    "$$ \\Delta T = \\frac{\\dfrac{dL}{d\\phi}\\bigg|_{Fi} + \\dfrac{dQ_w} {d\\phi} \\bigg|_{Fi}} {C_v(Fi)\\cdot M_{mixture}(Fi)} $$\n",
    "$$ T_{Fi+1} = T_{Fi} + \\Delta Fi \\cdot \\Delta T  $$\n",
    "$$ M {[NO2]}_{Fi+1} = M {[NO2]}_{Fi} + 0 $$\n",
    "$$ M {[CO2]}|_{Fi+1} = M {[CO2]}_{Fi} + 0  $$\n",
    "$$ M {[N2]}_{Fi+1} = M {[N2]}_{Fi} + 0 $$\n",
    "$$ M {[O2]}_{Fi+1} = M {[O2]}_{Fi} + 0 $$\n",
    "$$ M {[Mixture]}_{Fi+1} = \\qquad \\sum_{i=1}^4 M^i_{Fi+1} $$\n",
    "$$ p_{Fi+1} = \\frac {M {[Mixture]}_{Fi+1} T_{Fi+1} R_m} {V_{Fi+1}}  $$"
   ]
  },
  {
   "cell_type": "markdown",
   "id": "b6aaa34f-8a1d-4dc5-b3f8-738dc22e4507",
   "metadata": {},
   "source": [
    "Пусть пока теплоемкость будет 23, потом исправим"
   ]
  },
  {
   "cell_type": "code",
   "execution_count": 16,
   "id": "12e5eda8-0de6-48f0-87aa-4bdec79b2944",
   "metadata": {},
   "outputs": [],
   "source": [
    "## цикл для определения результатов на каждом следующем шаге расчета до начала процесса сгорания (пока можно на все 720 градусов сделать)\n",
    "for i in range(Fi_zvk, 721):\n",
    "    cv = Cv(T[i], M['N2'][i], M['O2'][i], M['CO2'][i], M['H2O'][i], M['Mixture'][i])\n",
    "    #print(cv)\n",
    "    dT = (-rab(P[i], i) + heat_transfer(T[i], P[i], i)) / cv / M['Mixture'][i]\n",
    "    T[i + 1] = T[i] + dFi * dT\n",
    "    M['N2'][i + 1] = M['N2'][Fi_zvk] + 0\n",
    "    M['CO2'][i + 1] = M['CO2'][Fi_zvk] + 0\n",
    "    M['N2'][i + 1] = M['N2'][Fi_zvk] + 0\n",
    "    M['O2'][i + 1] = M['O2'][Fi_zvk] + 0\n",
    "    M['Mixture'][i + 1] = M['Mixture'][i]\n",
    "    P[i + 1] = M['Mixture'][i + 1] * T[i + 1] * Rm / vol(i + 1)"
   ]
  },
  {
   "cell_type": "code",
   "execution_count": 17,
   "id": "ba600d62-262b-40be-a244-f7aba34c01e2",
   "metadata": {},
   "outputs": [
    {
     "data": {
      "text/plain": [
       "[<matplotlib.lines.Line2D at 0xced5880>]"
      ]
     },
     "execution_count": 17,
     "metadata": {},
     "output_type": "execute_result"
    },
    {
     "data": {
      "image/png": "[encoded data removed]",
      "text/plain": [
       "<Figure size 640x480 with 1 Axes>"
      ]
     },
     "metadata": {},
     "output_type": "display_data"
    }
   ],
   "source": [
    "plt.plot(P)\n",
    "plt.plot(exp['Pc'] * 1E5)"
   ]
  },
  {
   "cell_type": "code",
   "execution_count": 18,
   "id": "6e7960ce-8bdc-476f-a5b0-a7a81d37f2f7",
   "metadata": {},
   "outputs": [
    {
     "data": {
      "text/plain": [
       "[<matplotlib.lines.Line2D at 0xcf038e0>]"
      ]
     },
     "execution_count": 18,
     "metadata": {},
     "output_type": "execute_result"
    },
    {
     "data": {
      "image/png": "[encoded data removed]",
      "text/plain": [
       "<Figure size 640x480 with 1 Axes>"
      ]
     },
     "metadata": {},
     "output_type": "display_data"
    }
   ],
   "source": [
    "plt.plot(T)\n",
    "plt.plot(exp['Tc'])"
   ]
  },
  {
   "cell_type": "markdown",
   "id": "3bbfeeda-27e5-486c-875d-7e24834895d4",
   "metadata": {},
   "source": [
    "# Отображение результатов "
   ]
  },
  {
   "cell_type": "markdown",
   "id": "f01cb21c-ffdb-4839-8392-4d9a4b1f48bc",
   "metadata": {},
   "source": [
    "Графики давления и температуры в КС"
   ]
  },
  {
   "cell_type": "code",
   "execution_count": 19,
   "id": "5e53138d-9f6b-416c-a7c2-e4114b43d596",
   "metadata": {},
   "outputs": [],
   "source": [
    "## вписать код для отобращения результатов расчета - Давление и Температура (сравнение с данными исходного файла)"
   ]
  },
  {
   "cell_type": "code",
   "execution_count": null,
   "id": "47e5d298-5f88-4497-92e3-6f484365f6f9",
   "metadata": {},
   "outputs": [],
   "source": []
  },
  {
   "cell_type": "code",
   "execution_count": null,
   "id": "34fd5ebc-4608-41bb-aa11-ae3d61cdd7d6",
   "metadata": {},
   "outputs": [],
   "source": []
  }
 ],
 "metadata": {
  "kernelspec": {
   "display_name": "Python 3 (ipykernel)",
   "language": "python",
   "name": "python3"
  },
  "language_info": {
   "codemirror_mode": {
    "name": "ipython",
    "version": 3
   },
   "file_extension": ".py",
   "mimetype": "text/x-python",
   "name": "python",
   "nbconvert_exporter": "python",
   "pygments_lexer": "ipython3",
   "version": "3.8.19"
  }
 },
 "nbformat": 4,
 "nbformat_minor": 5
}
