{
 "cells": [
  {
   "cell_type": "markdown",
   "id": "6bf1809c-8ea9-4127-baa3-5b538953e518",
   "metadata": {},
   "source": [
    "Загрузка библиотек"
   ]
  },
  {
   "cell_type": "code",
   "execution_count": 1,
   "id": "b02afbf7-0106-4a9d-a54d-16d5d24b71db",
   "metadata": {},
   "outputs": [],
   "source": [
    "import pandas as pd\n",
    "import numpy as np\n",
    "import matplotlib.pyplot as plt"
   ]
  },
  {
   "cell_type": "markdown",
   "id": "02b6c636-6277-4e75-ac90-32c5d77fa698",
   "metadata": {},
   "source": [
    "Импорт файла с данными для сравнения:"
   ]
  },
  {
   "cell_type": "code",
   "execution_count": 2,
   "id": "a9b3843d-bced-4b7f-b3a5-236a50b8ef24",
   "metadata": {},
   "outputs": [
    {
     "data": {
      "text/html": [
       "<div>\n",
       "<style scoped>\n",
       "    .dataframe tbody tr th:only-of-type {\n",
       "        vertical-align: middle;\n",
       "    }\n",
       "\n",
       "    .dataframe tbody tr th {\n",
       "        vertical-align: top;\n",
       "    }\n",
       "\n",
       "    .dataframe thead th {\n",
       "        text-align: right;\n",
       "    }\n",
       "</style>\n",
       "<table border=\"1\" class=\"dataframe\">\n",
       "  <thead>\n",
       "    <tr style=\"text-align: right;\">\n",
       "      <th></th>\n",
       "      <th>Fi</th>\n",
       "      <th>Pc</th>\n",
       "      <th>Tc</th>\n",
       "      <th>x</th>\n",
       "    </tr>\n",
       "  </thead>\n",
       "  <tbody>\n",
       "    <tr>\n",
       "      <th>0</th>\n",
       "      <td>180.0</td>\n",
       "      <td>193000.0</td>\n",
       "      <td>346.4</td>\n",
       "      <td>2.000000e+25</td>\n",
       "    </tr>\n",
       "    <tr>\n",
       "      <th>1</th>\n",
       "      <td>181.0</td>\n",
       "      <td>193000.0</td>\n",
       "      <td>346.5</td>\n",
       "      <td>2.000000e+25</td>\n",
       "    </tr>\n",
       "    <tr>\n",
       "      <th>2</th>\n",
       "      <td>182.0</td>\n",
       "      <td>193000.0</td>\n",
       "      <td>346.6</td>\n",
       "      <td>2.000000e+25</td>\n",
       "    </tr>\n",
       "    <tr>\n",
       "      <th>3</th>\n",
       "      <td>183.0</td>\n",
       "      <td>193000.0</td>\n",
       "      <td>346.7</td>\n",
       "      <td>2.000000e+25</td>\n",
       "    </tr>\n",
       "    <tr>\n",
       "      <th>4</th>\n",
       "      <td>184.0</td>\n",
       "      <td>193000.0</td>\n",
       "      <td>346.8</td>\n",
       "      <td>2.000000e+25</td>\n",
       "    </tr>\n",
       "  </tbody>\n",
       "</table>\n",
       "</div>"
      ],
      "text/plain": [
       "      Fi        Pc     Tc             x\n",
       "0  180.0  193000.0  346.4  2.000000e+25\n",
       "1  181.0  193000.0  346.5  2.000000e+25\n",
       "2  182.0  193000.0  346.6  2.000000e+25\n",
       "3  183.0  193000.0  346.7  2.000000e+25\n",
       "4  184.0  193000.0  346.8  2.000000e+25"
      ]
     },
     "execution_count": 2,
     "metadata": {},
     "output_type": "execute_result"
    }
   ],
   "source": [
    "exp = pd.read_csv('EngineSem.ind', encoding='latin-1', header=None, skiprows = 19, delimiter='\\s+')\n",
    "exp.columns = ['Fi', 'Pc', 'Tc', 'Vc', 'Alf_w', 'P_1ring', 'G_bb', 'P_pist', 'x']\n",
    "exp = exp[['Fi', 'Pc', 'Tc', 'x']]\n",
    "exp['Pc'] = exp['Pc']*10**5\n",
    "exp.head(5)"
   ]
  },
  {
   "cell_type": "markdown",
   "id": "98b05d28-3f39-47f4-913c-039edb29a5ac",
   "metadata": {},
   "source": [
    "# Исходные данные по двигателю"
   ]
  },
  {
   "cell_type": "markdown",
   "id": "33b1be56-20ab-4c91-a273-8bdf45e6b60e",
   "metadata": {},
   "source": [
    "### Геометрические параметры двигателя"
   ]
  },
  {
   "cell_type": "code",
   "execution_count": 3,
   "id": "2d3dd3a3-7ad1-4f8e-952d-3b6513778da1",
   "metadata": {},
   "outputs": [],
   "source": [
    "D=0.102          # диаметр цилиндра, м\n",
    "S=0.122          # ход поршня, м\n",
    "n_mex=0.82956    # механический КПД\n",
    "n=2400           # частота вращения, об/мин\n",
    "icyl=6           # кол-во цилиндров\n",
    "eps=18           # степень сжатия\n",
    "lamb=0.264       # R/L\n",
    "qc  = 7.05e-05  # Цикловая подача\n",
    "Hu = 42.5*10**6"
   ]
  },
  {
   "cell_type": "markdown",
   "id": "b58385f0-ab1b-45be-999d-d7ab8249b40c",
   "metadata": {},
   "source": [
    "### Прочие константы"
   ]
  },
  {
   "cell_type": "code",
   "execution_count": 4,
   "id": "eb809eb7-51d2-4b38-9213-3f4d247cd7a9",
   "metadata": {},
   "outputs": [],
   "source": [
    "Rm=8.314          # Универсальная газовая постоянная\n",
    "dFi=np.pi/180     # Приращение угла поворота КВ\n",
    "N=900             # Статическое количество элементов в массивах"
   ]
  },
  {
   "cell_type": "markdown",
   "id": "7f871d83-ee0d-4c64-835b-eb88ec5f56e9",
   "metadata": {},
   "source": [
    "# Функции"
   ]
  },
  {
   "cell_type": "markdown",
   "id": "0d48fddd-d434-4d39-800e-18f8039b5bc6",
   "metadata": {},
   "source": [
    "### Объем КС как функция угла поворота коленчатого вала:\n",
    "$$ V(\\phi) = V_c + V_h -\\frac{\\pi D^2} 4 \\frac{S} 2 ((1 - cos (\\phi))-\\frac{\\lambda} 4 (1 -cos(2\\phi)))$$"
   ]
  },
  {
   "cell_type": "code",
   "execution_count": 5,
   "id": "cf64f597-c57f-4bd1-809b-0d834317ff82",
   "metadata": {},
   "outputs": [],
   "source": [
    "def Vol(deg):\n",
    "    Ap = np.pi * D ** 2 / 4\n",
    "    Vh = Ap * S\n",
    "    Vc = Vh / (eps - 1)\n",
    "    V = Vc + Vh - Ap * S / 2 * (1 - np.cos(np.deg2rad(deg)) - lamb / 4 * (1 - np.cos(2*np.deg2rad(deg))))\n",
    "    return (V)"
   ]
  },
  {
   "cell_type": "markdown",
   "id": "89f07011-f45f-4135-a9da-6bb418b721ca",
   "metadata": {},
   "source": [
    "### Термодинамическая работа\n",
    "$$ \\frac{dL} {d\\phi} = -p\\frac{dV}{d\\phi} $$"
   ]
  },
  {
   "cell_type": "code",
   "execution_count": 6,
   "id": "e0e13e0c-57c5-4b51-8c67-65d88fb3f7e3",
   "metadata": {},
   "outputs": [],
   "source": [
    "def dL(P, Fi):\n",
    "    dl = -P * (Vol(Fi+1) - Vol(Fi))/dFi\n",
    "    return dl"
   ]
  },
  {
   "cell_type": "markdown",
   "id": "1f2b87a1-0f2c-4480-a82e-fcaeb020bc30",
   "metadata": {},
   "source": [
    "### Теплообмен с окружающими деталями КС:\n",
    "$$ \\frac{dQ_w} {d\\phi} = \\qquad \\sum_{i=1}^3 \\alpha_w(T-T_w^i)F_i \\frac{dt}{d\\omega} $$\n",
    "Площадь крышки цилиндра:\n",
    "$$ F_k = \\frac{\\pi D^2} 4 $$\n",
    "Площадь поршня:\n",
    "$$ F_p = 1.4 F_k $$\n",
    "Площадь гильзы:\n",
    "$$ F_{cyl}(\\phi) = {\\pi D}(\\delta + S_p(\\phi)) $$\n",
    "Коэффициент теплоотдачи по формуле Г. Эйхельберга:\n",
    "$$ \\alpha_w(\\phi) = 77.9 \\cdot 10^{-4} C_m^{\\frac 1 3} \\sqrt{PT} $$"
   ]
  },
  {
   "cell_type": "code",
   "execution_count": 7,
   "id": "d7060ac1-43a1-4aba-9de4-a892a0be1ad2",
   "metadata": {},
   "outputs": [],
   "source": [
    "def dQw(P, T, Fi):\n",
    "    delta = 0.005\n",
    "    T_h = 473\n",
    "    T_cyl = 420\n",
    "    T_p = 521\n",
    "    Cm = S * n / 30\n",
    "    Fpist = np.pi*D**2/4\n",
    "    Vh = Fpist * S\n",
    "    Vc = Vh / (eps - 1)\n",
    "    Fcyl = ((Vol(Fi) - Vc) / Fpist + delta) * np.pi * D\n",
    "    alfa_w =77.9 * 10 ** (-4) * Cm ** (1 / 3) * np.sqrt(P * T)\n",
    "    dQh = alfa_w * (T - T_h) * 1.4 * Fpist\n",
    "    dQcyl = alfa_w * (T - T_cyl) * Fcyl\n",
    "    dQp = alfa_w * (T - T_p) * Fpist\n",
    "    dqw = -(dQp + dQcyl + dQh) / (np.pi * n / 30)\n",
    "    return dqw"
   ]
  },
  {
   "cell_type": "markdown",
   "id": "bdae958d-c72f-4fba-916e-332d717d27cd",
   "metadata": {},
   "source": [
    "# Основная программа"
   ]
  },
  {
   "cell_type": "markdown",
   "id": "c6373e4a-b0c2-4f3a-8d07-3e32717053b2",
   "metadata": {},
   "source": [
    "### Получение данных о характеристике тепловыделения"
   ]
  },
  {
   "cell_type": "markdown",
   "id": "956fa8c9-4ae3-410e-9912-03d5c17cbc94",
   "metadata": {},
   "source": [
    "Пусть пока теплоемкость будет 25"
   ]
  },
  {
   "cell_type": "code",
   "execution_count": 8,
   "id": "9f345f1e-91b8-4c70-8652-65be56525ec8",
   "metadata": {},
   "outputs": [],
   "source": [
    "cv = 25"
   ]
  },
  {
   "cell_type": "markdown",
   "id": "6fe71358-0bb1-4720-b770-88592e535e27",
   "metadata": {},
   "source": [
    "Определим слагаемые для Первого Закона Термодинамики"
   ]
  },
  {
   "cell_type": "markdown",
   "id": "c12f0e82-5fdd-40c0-8b25-0daf4d8f2c75",
   "metadata": {},
   "source": [
    "\n",
    "$$ \\dfrac{dQ_{сг}} {d\\phi} = \\dfrac{dU} {d\\phi} - \\dfrac{dL} {d\\phi} - \\dfrac{dQ_w} {d\\phi} $$\n",
    "$$ \\dfrac{dU} {d\\phi} = C_v\\dfrac{d(MT)} {d\\phi}  \\quad | pV = MRT | \\quad = \\frac{C_v}{R_m}\\dfrac{d(pV)} {d\\phi}$$ \n",
    "$$ \\frac{dL} {d\\phi} = -p\\frac{dV}{d\\phi} $$\n",
    "$$ \\frac{dQ_w} {d\\phi} = \\qquad \\sum_{i=1}^3 \\alpha_w(T-T_w^i)F_i \\frac{dt}{d\\omega} $$\n",
    "Тогда формула для тепла выделившегося при сгорании примет вид:\n",
    "$$ \\dfrac{dQ_{сг}} {d\\phi} = (\\frac{C_v}{R_m}+1)p\\frac{dV}{d\\phi} + \\frac{C_v}{R_m}V\\frac{dp}{d\\phi} -\\dfrac{dQ_w} {d\\phi}  $$"
   ]
  },
  {
   "cell_type": "code",
   "execution_count": 9,
   "id": "bd77cce6-3c45-46aa-bd16-993e50d662ab",
   "metadata": {},
   "outputs": [],
   "source": [
    "## написать цикл для определения  dQc по углу поворота КВ\n",
    "def dQc(Fi):\n",
    "    return (cv/Rm +1)*exp['Pc'][Fi]*(Vol(Fi)-Vol(Fi-1))/dFi+cv/Rm*Vol(Fi)*(exp['Pc'][Fi]-exp['Pc'][Fi-1])/ dFi - dQw(exp['Tc'][Fi], exp['Tc'][Fi],Fi) "
   ]
  },
  {
   "cell_type": "markdown",
   "id": "57ae3d9c-ccd0-404c-acb1-ec4e871b1169",
   "metadata": {},
   "source": [
    "График тепла   $ \\dfrac{dQ_{сг}} {d\\phi} $ от угла поворота КВ"
   ]
  },
  {
   "cell_type": "code",
   "execution_count": 10,
   "id": "cbabc5db-ff70-4026-ab72-6caa8a52fae3",
   "metadata": {},
   "outputs": [
    {
     "data": {
      "text/plain": [
       "[<matplotlib.lines.Line2D at 0xceea130>]"
      ]
     },
     "execution_count": 10,
     "metadata": {},
     "output_type": "execute_result"
    },
    {
     "data": {
      "image/png": "[encoded data removed]",
      "text/plain": [
       "<Figure size 640x480 with 1 Axes>"
      ]
     },
     "metadata": {},
     "output_type": "display_data"
    }
   ],
   "source": [
    "\n",
    "plt.plot([dQc(Fi) / Hu/ qc* dFi for Fi in range(1,721)])"
   ]
  },
  {
   "cell_type": "markdown",
   "id": "b3df1f3c-2a91-450f-819e-adcf56ab17d1",
   "metadata": {},
   "source": [
    "Скорость тепловыделения:\n",
    "$$ \\dfrac{dQ_{сг}} {d\\phi} = Hu\\dfrac{dx} {d\\phi}q_c $$"
   ]
  },
  {
   "cell_type": "markdown",
   "id": "dcef9c6c-ecfa-4949-9de8-ce9f2255c44d",
   "metadata": {},
   "source": [
    "График тепла   $ \\dfrac{dx} {d\\phi} $ от угла поворота КВ"
   ]
  },
  {
   "cell_type": "code",
   "execution_count": 11,
   "id": "ba3705f0-8ac9-4d31-b06c-11c72c160b75",
   "metadata": {},
   "outputs": [
    {
     "name": "stdout",
     "output_type": "stream",
     "text": [
      "0.7622930315965369\n"
     ]
    },
    {
     "data": {
      "image/png": "[encoded data removed]",
      "text/plain": [
       "<Figure size 640x480 with 1 Axes>"
      ]
     },
     "metadata": {},
     "output_type": "display_data"
    }
   ],
   "source": [
    "## отобразить на графике dXdFi (как dQcdFi/Hu/qc ) по углу поворота КВ\n",
    "sgor = [dQc(Fi) / Hu / qc * dFi for Fi in range(180,230)]\n",
    "plt.plot(sgor)\n",
    "sum = 0\n",
    "for Fi in range(180,240):\n",
    "    sum += dQc(Fi) / Hu / qc* dFi\n",
    "print(sum)"
   ]
  },
  {
   "cell_type": "markdown",
   "id": "cf9fb3d4-1b60-4b7e-a660-8136c6231a2c",
   "metadata": {},
   "source": [
    "Необходимо на интервале где происходит сгорание - записать dXdFi в отдельную переменную"
   ]
  },
  {
   "cell_type": "code",
   "execution_count": 12,
   "id": "e02e436b-5246-4301-bafb-556039352ed3",
   "metadata": {},
   "outputs": [],
   "source": [
    "## отдельно записать в переменную участок dXdFi по углу поворота КВ от начала сгорания"
   ]
  },
  {
   "cell_type": "code",
   "execution_count": 13,
   "id": "df76f5d0-f0c4-438c-8101-3365abb53499",
   "metadata": {},
   "outputs": [],
   "source": [
    "## отобразить на графике dXdFi  по углу поворота КВ"
   ]
  },
  {
   "cell_type": "markdown",
   "id": "8917d132-f4ce-49f4-811b-4d101837854b",
   "metadata": {},
   "source": [
    "### Использование формулы Вибе для моделирования сгорания"
   ]
  },
  {
   "cell_type": "markdown",
   "id": "e547276e-8cd0-4c08-9774-b7fc211fe83c",
   "metadata": {},
   "source": [
    "Для дизельного двигателя можно записать с следующим виде:\n",
    "$$ \\dfrac{dx_{диз}} {d\\phi} =  \\dfrac{dx_{об}} {d\\phi} + \\dfrac{dx_{диф}} {d\\phi} $$\n",
    "Для объемного сгорания:\n",
    "$$ \\dfrac{dx_{об}} {d\\phi} =\\chi_t [\\frac{m_t}{\\phi_{сг}}][\\frac{\\phi}{\\phi_{сг}}]exp(-\\frac{m_t}{m_t+1}[\\frac{\\phi}{\\phi_{сг}}]^{m_t+1})$$\n",
    "Для диффузионного сгорания:\n",
    "$$ \\dfrac{dx_{диф}} {d\\phi} = (1-\\chi_t) C [\\frac{m_v+1}{\\phi_{z}}][\\frac{\\phi}{\\phi_{z}}]exp(-C[\\frac{\\phi}{\\phi_{z}}]^{m_v+1})$$\n",
    "$ \\chi_t $ - доля топлива сгоревшего по кинетическому механизму;\n",
    "\n",
    "$ m_t $ - показатель кинетического сгорания;\n",
    "\n",
    "$ \\phi_{сг} $ - угол максимального скорости кинетического сгорания;\n",
    "\n",
    "$ m_v $ - показатель объемного сгорания;\n",
    "\n",
    "$ С = -ln[1-\\Delta x] $ \n",
    "\n",
    "$\\Delta x $ - доля сгоревшего топлива за весь процесс (обычно принимается ~0.99);\n",
    "\n",
    "$ \\phi_{z} $ - полная продолжительность процесса сгорания."
   ]
  },
  {
   "cell_type": "markdown",
   "id": "759def4e-6cc0-44af-b3cf-caf59fc5c593",
   "metadata": {},
   "source": [
    "Необходимо подобрать константы (кроме тех, что можно \"взять с графика\")"
   ]
  },
  {
   "cell_type": "code",
   "execution_count": 14,
   "id": "59a70301-35e3-4f06-b764-5fe3bcf99043",
   "metadata": {},
   "outputs": [],
   "source": [
    "## записать выражения для констант в Формуле Вибе\n",
    "# ksi = 0.2\n",
    "# dx = 0.99\n",
    "# mt = 1\n",
    "# mv = 1\n",
    "# Fiz = 50\n",
    "# Fic = 4\n",
    "# C = -np.log(1-dx)"
   ]
  },
  {
   "cell_type": "markdown",
   "id": "d3f9c041-c8fe-4559-b1ad-e8c333f1ed1d",
   "metadata": {},
   "source": [
    "Записать функцию для определения скорости тепловыделения"
   ]
  },
  {
   "cell_type": "code",
   "execution_count": 15,
   "id": "6b06db50-e076-40a1-908e-d61b04dde6b0",
   "metadata": {},
   "outputs": [],
   "source": [
    "## def функция по углу поворота - и ее скинуть в основной файл - попозже !"
   ]
  },
  {
   "cell_type": "code",
   "execution_count": 16,
   "id": "052b7169-8b0a-4961-929a-969ea576d529",
   "metadata": {},
   "outputs": [],
   "source": [
    "#Fi = np.linspace(0, 180, 180)\n",
    "## создать переменную и используя функция записать значения скорости тепловыделения по углу поворота КВ"
   ]
  },
  {
   "cell_type": "code",
   "execution_count": 17,
   "id": "d7c3880b-c153-463c-b9bf-f7a94ff0ac3a",
   "metadata": {},
   "outputs": [],
   "source": [
    "## Отобразить и сравнить получившиемся значения скорости тепловыделения"
   ]
  },
  {
   "cell_type": "code",
   "execution_count": null,
   "id": "3630881e-d126-40d5-aa3f-3439164b4b80",
   "metadata": {},
   "outputs": [],
   "source": []
  },
  {
   "cell_type": "code",
   "execution_count": null,
   "id": "12631994-4a60-4d83-9d44-d95a6cf1ef97",
   "metadata": {},
   "outputs": [],
   "source": []
  },
  {
   "cell_type": "code",
   "execution_count": null,
   "id": "a1eeb506-1451-444f-aa9b-656c451aa86e",
   "metadata": {},
   "outputs": [],
   "source": []
  },
  {
   "cell_type": "code",
   "execution_count": null,
   "id": "cabc187f-0fcb-4350-8291-3742d31b7a23",
   "metadata": {},
   "outputs": [],
   "source": []
  },
  {
   "cell_type": "code",
   "execution_count": null,
   "id": "47e5d298-5f88-4497-92e3-6f484365f6f9",
   "metadata": {},
   "outputs": [],
   "source": []
  },
  {
   "cell_type": "code",
   "execution_count": null,
   "id": "34fd5ebc-4608-41bb-aa11-ae3d61cdd7d6",
   "metadata": {},
   "outputs": [],
   "source": []
  }
 ],
 "metadata": {
  "kernelspec": {
   "display_name": "Python 3 (ipykernel)",
   "language": "python",
   "name": "python3"
  },
  "language_info": {
   "codemirror_mode": {
    "name": "ipython",
    "version": 3
   },
   "file_extension": ".py",
   "mimetype": "text/x-python",
   "name": "python",
   "nbconvert_exporter": "python",
   "pygments_lexer": "ipython3",
   "version": "3.8.19"
  }
 },
 "nbformat": 4,
 "nbformat_minor": 5
}
